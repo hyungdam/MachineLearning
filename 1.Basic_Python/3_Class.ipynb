{
 "cells": [
  {
   "cell_type": "code",
   "execution_count": 4,
   "id": "7a046d32",
   "metadata": {},
   "outputs": [
    {
     "name": "stdout",
     "output_type": "stream",
     "text": [
      "initialized with SHIN, PARK\n",
      "SHIN\n",
      "SHIN PARK\n",
      "('SHIN', 'PARK')\n"
     ]
    },
    {
     "ename": "AttributeError",
     "evalue": "'PrivateMemberTest' object has no attribute '__printNames'",
     "output_type": "error",
     "traceback": [
      "\u001b[1;31m---------------------------------------------------------------------------\u001b[0m",
      "\u001b[1;31mAttributeError\u001b[0m                            Traceback (most recent call last)",
      "\u001b[1;32m<ipython-input-4-8bb5b16dfff7>\u001b[0m in \u001b[0;36m<module>\u001b[1;34m\u001b[0m\n\u001b[0;32m     16\u001b[0m \u001b[0mprint\u001b[0m\u001b[1;33m(\u001b[0m\u001b[0mobj\u001b[0m\u001b[1;33m.\u001b[0m\u001b[0mgetNames\u001b[0m\u001b[1;33m(\u001b[0m\u001b[1;33m)\u001b[0m\u001b[1;33m)\u001b[0m\u001b[1;33m\u001b[0m\u001b[1;33m\u001b[0m\u001b[0m\n\u001b[0;32m     17\u001b[0m \u001b[1;31m# error 발생\u001b[0m\u001b[1;33m\u001b[0m\u001b[1;33m\u001b[0m\u001b[1;33m\u001b[0m\u001b[0m\n\u001b[1;32m---> 18\u001b[1;33m \u001b[0mprint\u001b[0m\u001b[1;33m(\u001b[0m\u001b[0mobj\u001b[0m\u001b[1;33m.\u001b[0m\u001b[0m__printNames\u001b[0m\u001b[1;33m(\u001b[0m\u001b[1;33m)\u001b[0m\u001b[1;33m)\u001b[0m\u001b[1;33m\u001b[0m\u001b[1;33m\u001b[0m\u001b[0m\n\u001b[0m\u001b[0;32m     19\u001b[0m \u001b[0mprint\u001b[0m\u001b[1;33m(\u001b[0m\u001b[0mobj\u001b[0m\u001b[1;33m.\u001b[0m\u001b[0m__name2\u001b[0m\u001b[1;33m)\u001b[0m\u001b[1;33m\u001b[0m\u001b[1;33m\u001b[0m\u001b[0m\n",
      "\u001b[1;31mAttributeError\u001b[0m: 'PrivateMemberTest' object has no attribute '__printNames'"
     ]
    }
   ],
   "source": [
    "# private member, method\n",
    "# __로 시작하는 변수 및 함수가 이에 해당\n",
    "class PrivateMemberTest:\n",
    "    def __init__(self, name1, name2):\n",
    "        self.name1 = name1\n",
    "        self.__name2 =  name2 # private member\n",
    "        print(\"initialized with \" + name1 + \", \" + name2)\n",
    "    def getNames(self):\n",
    "        self.__printNames()\n",
    "        return self.name1, self.__name2\n",
    "    def __printNames(self):  # private method\n",
    "        print(self.name1, self.__name2)\n",
    "        \n",
    "obj = PrivateMemberTest(\"SHIN\", \"PARK\")\n",
    "\n",
    "print(obj.name1)\n",
    "print(obj.getNames())\n",
    "print(obj.__printNames()) # error 발생\n",
    "print(obj.__name2)"
   ]
  },
  {
   "cell_type": "code",
   "execution_count": 3,
   "id": "87756bd0",
   "metadata": {},
   "outputs": [
    {
     "name": "stdout",
     "output_type": "stream",
     "text": [
      "PARK is initialized\n",
      "KIM is initialized\n",
      "PARK is working in Samsung\n",
      "KIM is sleeping\n",
      "Person object is PARK , KIM\n",
      "current Person object cnt == 2\n",
      "2 2 2\n"
     ]
    }
   ],
   "source": [
    "# 클래스 변수는 해당 클래스로 생성된 모든 인스턴스가 공통으로 공유\n",
    "# count는 모두가 공유\n",
    "#클래스 메서드는 @classmethod 명시, 첫 인자가 반드시 cls\n",
    "class Person:\n",
    "    count = 0\n",
    "    \n",
    "    def __init__(self, name):\n",
    "        self.name = name\n",
    "        Person.count += 1\n",
    "        print(self.name + \" is initialized\")\n",
    "    \n",
    "    def work(self, company):\n",
    "        print(self.name + \" is working in \" + company)\n",
    "        \n",
    "    def sleep(self):\n",
    "        print(self.name + \" is sleeping\")\n",
    "        \n",
    "    @classmethod\n",
    "    def getCount(cls):\n",
    "        return cls.count\n",
    "    \n",
    "obj1 = Person(\"PARK\")\n",
    "obj2 = Person(\"KIM\")\n",
    "\n",
    "obj1.work(\"Samsung\")\n",
    "obj2.sleep()\n",
    "\n",
    "print(\"Person object is\", obj1.name, \",\", obj2.name)\n",
    "print(\"current Person object cnt ==\", Person.getCount())\n",
    "print(Person.getCount(), obj1.count, obj2.count)"
   ]
  },
  {
   "cell_type": "code",
   "execution_count": 3,
   "id": "e02c42f6",
   "metadata": {},
   "outputs": [
    {
     "name": "stdout",
     "output_type": "stream",
     "text": [
      "[def] LEE\n",
      "\n",
      "[SameTest] LEE\n",
      "\n",
      "[def] KIM\n",
      "[SameTest] KIM\n"
     ]
    }
   ],
   "source": [
    "def print_name(name):\n",
    "    print(\"[def]\", name)\n",
    "class SameTest:\n",
    "    def __init__(self):\n",
    "        pass\n",
    "    \n",
    "    def print_name(self, name):\n",
    "        print(\"[SameTest]\", name)\n",
    "    \n",
    "    def call_test(self):\n",
    "        # 외부 함수 호출\n",
    "        print_name(\"KIM\")\n",
    "        # 클래스 내부 함수 호출\n",
    "        self.print_name(\"KIM\")\n",
    "        \n",
    "obj = SameTest()\n",
    "print_name(\"LEE\")\n",
    "print()\n",
    "obj.print_name(\"LEE\") # obj.메서드명으로 실행\n",
    "print()\n",
    "obj.call_test()"
   ]
  },
  {
   "cell_type": "code",
   "execution_count": 2,
   "id": "7eb25fe7",
   "metadata": {},
   "outputs": [
    {
     "name": "stdout",
     "output_type": "stream",
     "text": [
      "30\n",
      "-10\n",
      "200\n",
      "0.5\n"
     ]
    }
   ],
   "source": [
    "class Test:\n",
    "    def __init__(self, num1, num2):\n",
    "        self.num1 = num1;\n",
    "        self.num2 = num2;\n",
    "    \n",
    "    def sum(self):\n",
    "        print(self.num1 +  self.num2)\n",
    "        \n",
    "    def abs(self):\n",
    "        print(self.num1 - self.num2)\n",
    "    \n",
    "    def mul(self):\n",
    "        print(self.num1 * self.num2)\n",
    "        \n",
    "    def div(self):\n",
    "        print(self.num1 / self.num2)\n",
    "        \n",
    "obj = Test(10, 20)\n",
    "obj.sum()\n",
    "obj.abs()\n",
    "obj.mul()\n",
    "obj.div()"
   ]
  },
  {
   "cell_type": "code",
   "execution_count": null,
   "id": "72c04eda",
   "metadata": {},
   "outputs": [],
   "source": []
  }
 ],
 "metadata": {
  "kernelspec": {
   "display_name": "Python 3",
   "language": "python",
   "name": "python3"
  },
  "language_info": {
   "codemirror_mode": {
    "name": "ipython",
    "version": 3
   },
   "file_extension": ".py",
   "mimetype": "text/x-python",
   "name": "python",
   "nbconvert_exporter": "python",
   "pygments_lexer": "ipython3",
   "version": "3.8.8"
  }
 },
 "nbformat": 4,
 "nbformat_minor": 5
}
