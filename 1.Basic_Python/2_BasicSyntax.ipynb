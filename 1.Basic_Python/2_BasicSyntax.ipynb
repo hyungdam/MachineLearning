{
 "cells": [
  {
   "cell_type": "code",
   "execution_count": 3,
   "id": "d451abcb",
   "metadata": {},
   "outputs": [
    {
     "name": "stdout",
     "output_type": "stream",
     "text": [
      "a == 1\n",
      "positive number\n"
     ]
    }
   ],
   "source": [
    "a = 1\n",
    "# if문 문법, {}사용 없이 indent로 구분\n",
    "if a > 0:\n",
    "    print(\"a ==\", a)\n",
    "    print(\"positive number\")\n",
    "# elif는 c의 else if이다\n",
    "elif a == 0:\n",
    "    print(\"a ==\", a)\n",
    "    print(\"zero\")\n",
    "else:\n",
    "    print(\"a ==\", a)\n",
    "    print(\"negative number\")"
   ]
  },
  {
   "cell_type": "code",
   "execution_count": 4,
   "id": "c62a8dbd",
   "metadata": {},
   "outputs": [
    {
     "name": "stdout",
     "output_type": "stream",
     "text": [
      "45 is not in list_data\n",
      "key1 is in dict_data\n"
     ]
    }
   ],
   "source": [
    "list_data = [10, 20, 30, 40, 50]\n",
    "dict_data = {'key1':1, 'key2':2}\n",
    "# value in 연속적인 데이터타입(list, dictionary, tuple...)\n",
    "if 45 in list_data:\n",
    "    print(\"45 is in list_data\")\n",
    "else:\n",
    "    print(\"45 is not in list_data\")\n",
    "\n",
    "if 'key1' in dict_data:\n",
    "    print(\"key1 is in dict_data\")\n",
    "else:\n",
    "    print(\"key1 is not in dict_data\")"
   ]
  },
  {
   "cell_type": "code",
   "execution_count": 2,
   "id": "b96396aa",
   "metadata": {},
   "outputs": [
    {
     "name": "stdout",
     "output_type": "stream",
     "text": [
      "0  1  2  3  4  5  6  7  8  9  \n",
      "0  1  2  3  4  5  6  7  8  9  \n",
      "0  2  4  6  8  "
     ]
    }
   ],
   "source": [
    "# in range() 사용법\n",
    "# in range(a) 0부터 a-1까지 1씩 증가시키며 data에 대입\n",
    "# in range(0, a) 위와 같음\n",
    "# in range(0, a, 2) 0부터 a-1까지 2씩 증가시켜 data에 대입\n",
    "for data in range(10):\n",
    "    print(data, \" \", end='') # end='' 를 통해 print()가 마지막에 개행을 출력x\n",
    "print('')\n",
    "for data in range(0, 10):\n",
    "    print(data, \" \", end='')\n",
    "print('')\n",
    "for data in range(0, 10, 2):\n",
    "    print(data, \" \", end='')"
   ]
  },
  {
   "cell_type": "code",
   "execution_count": 5,
   "id": "ec75399c",
   "metadata": {},
   "outputs": [
    {
     "name": "stdout",
     "output_type": "stream",
     "text": [
      "10  20  30  40  50  \n",
      "key1  key2  \n",
      "key1   1\n",
      "key2   2\n"
     ]
    }
   ],
   "source": [
    "list_data = [10, 20, 30, 40, 50]\n",
    "for data in list_data:\n",
    "    print(data, \" \", end='')\n",
    "print(\"\")\n",
    "    \n",
    "dict_data = {'key1':1, 'key2':2}\n",
    "# in dictionary변수는 key값만 출력\n",
    "for data in dict_data:\n",
    "    print(data, \" \", end='')\n",
    "print(\"\")\n",
    "# key, value쌍을 반복변수에 입력 받는 문법\n",
    "for key, value in dict_data.items():\n",
    "    print(key, \" \", value)"
   ]
  },
  {
   "cell_type": "code",
   "execution_count": 16,
   "id": "3e74ea6f",
   "metadata": {},
   "outputs": [
    {
     "name": "stdout",
     "output_type": "stream",
     "text": [
      "[0, 1, 4, 9, 16]\n",
      "all_data == [[1, 10], [2, 15], [3, 30], [4, 55]]\n",
      "x_data == [1, 2, 3, 4]\n",
      "y_data == [10, 15, 30, 55]\n",
      "[0, 2, 4, 6, 8]\n"
     ]
    }
   ],
   "source": [
    "# list comprehension\n",
    "# [원소 for if] 꼴로 list를 한줄에 정의\n",
    "# for문을 실행하여 if문을 만족하는 변수가 list의 원소\n",
    "list_data = [x**2 for x in range(5)]\n",
    "print(list_data)\n",
    "\n",
    "raw_data = [[1,10], [2, 15], [3, 30], [4, 55]]\n",
    "all_data = [x for x in raw_data]\n",
    "x_data = [x[0] for x in raw_data]\n",
    "y_data = [x[1] for x in raw_data]\n",
    "\n",
    "print(\"all_data ==\", all_data)\n",
    "print(\"x_data ==\", x_data)\n",
    "print(\"y_data ==\", y_data)\n",
    "\n",
    "even = [x for x in range(10) if x%2 == 0]\n",
    "print(even)"
   ]
  },
  {
   "cell_type": "code",
   "execution_count": 4,
   "id": "725e6598",
   "metadata": {},
   "outputs": [
    {
     "name": "stdout",
     "output_type": "stream",
     "text": [
      "30\n",
      "101 102 103\n",
      "(101, 102, 103)\n"
     ]
    }
   ],
   "source": [
    "# 함수는 def로 정의\n",
    "def sum(x, y):\n",
    "    s = x + y\n",
    "    return s\n",
    "result = sum(10, 20)\n",
    "print(result)\n",
    "\n",
    "# 여러개의 값을 리턴\n",
    "def multi_ret_func(x):\n",
    "    return x+1, x+2, x+3 # == return(x+1, x+2, x+3)\n",
    "x = 100;\n",
    "y1, y2, y3 = multi_ret_func(x)\n",
    "print(y1, y2, y3)\n",
    "print(multi_ret_func(x))"
   ]
  },
  {
   "cell_type": "code",
   "execution_count": 1,
   "id": "d789eeaf",
   "metadata": {},
   "outputs": [
    {
     "name": "stdout",
     "output_type": "stream",
     "text": [
      "name == DAVE\n",
      "name == DAVE\n"
     ]
    }
   ],
   "source": [
    "# default parameter\n",
    "# count는 인자로 넘겨줄 필요가 없이 자동으로 2가되어 실행\n",
    "def print_name(name, count=2):\n",
    "    for i in range(count):\n",
    "        print(\"name ==\", name)\n",
    "print_name(\"DAVE\")"
   ]
  },
  {
   "cell_type": "code",
   "execution_count": 3,
   "id": "48953675",
   "metadata": {},
   "outputs": [
    {
     "name": "stdout",
     "output_type": "stream",
     "text": [
      "x == 1 , test_list == [1, 2, 3, 100]\n"
     ]
    }
   ],
   "source": [
    "# mutable : list, numpy, dictionary ...\n",
    "# immutable : 일반적인 데이터, tuple ...\n",
    "def mutable_immutable_func(int_x, input_list):\n",
    "    int_x += 1\n",
    "    input_list.append(100)\n",
    "x = 1\n",
    "test_list = [1, 2, 3]\n",
    "mutable_immutable_func(x, test_list)\n",
    "print(\"x ==\", x ,\", test_list ==\", test_list)"
   ]
  },
  {
   "cell_type": "code",
   "execution_count": 1,
   "id": "c786c53c",
   "metadata": {},
   "outputs": [
    {
     "name": "stdout",
     "output_type": "stream",
     "text": [
      "100\n",
      "101\n",
      "102\n",
      "input1 == 10 , input2== 20\n",
      "input1 == 500 , input2== 1000\n",
      "hello python\n"
     ]
    }
   ],
   "source": [
    "# lambda함수 == c의 #define 느낌\n",
    "# 함수 f(x)는 x+100으로 대체된다.\n",
    "f = lambda x : x + 100\n",
    "for i in range(3):\n",
    "    print(f(i))\n",
    "\n",
    "def print_hello():\n",
    "    print(\"hello python\")\n",
    "def test_lambda(s, t):\n",
    "    print(\"input1 ==\", s, \", input2==\", t)\n",
    "\n",
    "s = 10\n",
    "t = 20\n",
    "\n",
    "f1 = lambda x, y : test_lambda(s, t) # 이 경우 f1(x, y)는 test_lambda(s, t)로 변환되어 넘겨준 인자와 관계없이 s, t가 넘겨짐  \n",
    "fx = lambda x, y : test_lambda(x, y)\n",
    "fy = lambda x, y : print_hello()\n",
    "\n",
    "f1(1000, 2000) # 확인할 것\n",
    "fx(500, 1000)\n",
    "fy(300, 600)"
   ]
  },
  {
   "cell_type": "code",
   "execution_count": 5,
   "id": "a16cd538",
   "metadata": {},
   "outputs": [
    {
     "name": "stdout",
     "output_type": "stream",
     "text": [
      "Park is initailized\n",
      "Park is working in SoongSil\n",
      "Park is sleeping\n",
      "current person object is Park\n"
     ]
    }
   ],
   "source": [
    "# Class 선언문법\n",
    "# method의 첫 파라미터는 self(객체 자기자신)\n",
    "# 생정자 함수 알아둘것\n",
    "# 기본적으로 memeber, method 모두 public\n",
    "class Person:\n",
    "    def __init__(self, name):      \n",
    "        self.name = name\n",
    "        print(self.name + \" is initailized\")\n",
    "    def work(self, company):\n",
    "        print(self.name + \" is working in \" + company)\n",
    "    def sleep(self):\n",
    "        print(self.name + \" is sleeping\")\n",
    "obj = Person(\"Park\")\n",
    "obj.work(\"SoongSil\")\n",
    "obj.sleep()\n",
    "print(\"current person object is \" + obj.name)"
   ]
  },
  {
   "cell_type": "code",
   "execution_count": null,
   "id": "936a0f23",
   "metadata": {},
   "outputs": [],
   "source": []
  }
 ],
 "metadata": {
  "kernelspec": {
   "display_name": "Python 3",
   "language": "python",
   "name": "python3"
  },
  "language_info": {
   "codemirror_mode": {
    "name": "ipython",
    "version": 3
   },
   "file_extension": ".py",
   "mimetype": "text/x-python",
   "name": "python",
   "nbconvert_exporter": "python",
   "pygments_lexer": "ipython3",
   "version": "3.8.8"
  }
 },
 "nbformat": 4,
 "nbformat_minor": 5
}
