{
 "cells": [
  {
   "cell_type": "code",
   "execution_count": 3,
   "id": "d451abcb",
   "metadata": {},
   "outputs": [
    {
     "name": "stdout",
     "output_type": "stream",
     "text": [
      "a == 1\n",
      "positive number\n"
     ]
    }
   ],
   "source": [
    "a = 1\n",
    "# if문 문법, {}사용 없이 indent로 구분\n",
    "if a > 0:\n",
    "    print(\"a ==\", a)\n",
    "    print(\"positive number\")\n",
    "# elif는 c의 else if이다\n",
    "elif a == 0:\n",
    "    print(\"a ==\", a)\n",
    "    print(\"zero\")\n",
    "else:\n",
    "    print(\"a ==\", a)\n",
    "    print(\"negative number\")"
   ]
  },
  {
   "cell_type": "code",
   "execution_count": 4,
   "id": "c62a8dbd",
   "metadata": {},
   "outputs": [
    {
     "name": "stdout",
     "output_type": "stream",
     "text": [
      "45 is not in list_data\n",
      "key1 is in dict_data\n"
     ]
    }
   ],
   "source": [
    "list_data = [10, 20, 30, 40, 50]\n",
    "dict_data = {'key1':1, 'key2':2}\n",
    "# value in 연속적인 데이터타입(list, dictionary, tuple...)\n",
    "if 45 in list_data:\n",
    "    print(\"45 is in list_data\")\n",
    "else:\n",
    "    print(\"45 is not in list_data\")\n",
    "\n",
    "if 'key1' in dict_data:\n",
    "    print(\"key1 is in dict_data\")\n",
    "else:\n",
    "    print(\"key1 is not in dict_data\")"
   ]
  },
  {
   "cell_type": "code",
   "execution_count": 11,
   "id": "b96396aa",
   "metadata": {},
   "outputs": [
    {
     "name": "stdout",
     "output_type": "stream",
     "text": [
      "0  1  2  3  4  5  6  7  8  9  \n",
      "0  1  2  3  4  5  6  7  8  9  \n",
      "0  2  4  6  8  "
     ]
    }
   ],
   "source": [
    "# in range() 사용법\n",
    "# in range(a) 0부터 a-1까지 1씩 증가시키며 data에 대입\n",
    "# in range(0, a) 위와 같음\n",
    "# in range(0, a, 2) 0부터 a-1까지 2씩 증가시켜 data에 대입\n",
    "for data in range(10):\n",
    "    print(data, \" \", end='') # end='' 를 통해 print()가 마지막에 개행을 출력x\n",
    "print('')\n",
    "for data in range(0, 10):\n",
    "    print(data, \" \", end='')\n",
    "print('')\n",
    "for data in range(0, 10, 2):\n",
    "    print(data, \" \", end='')"
   ]
  },
  {
   "cell_type": "code",
   "execution_count": null,
   "id": "ec75399c",
   "metadata": {},
   "outputs": [],
   "source": []
  }
 ],
 "metadata": {
  "kernelspec": {
   "display_name": "Python 3",
   "language": "python",
   "name": "python3"
  },
  "language_info": {
   "codemirror_mode": {
    "name": "ipython",
    "version": 3
   },
   "file_extension": ".py",
   "mimetype": "text/x-python",
   "name": "python",
   "nbconvert_exporter": "python",
   "pygments_lexer": "ipython3",
   "version": "3.8.8"
  }
 },
 "nbformat": 4,
 "nbformat_minor": 5
}
