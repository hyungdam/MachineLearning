{
 "cells": [
  {
   "cell_type": "code",
   "execution_count": 7,
   "id": "7f9e29a9",
   "metadata": {},
   "outputs": [
    {
     "name": "stdout",
     "output_type": "stream",
     "text": [
      "list index out of range\n",
      "0\n",
      "Sum is minus\n",
      "-97\n"
     ]
    }
   ],
   "source": [
    "def calc(list_data):\n",
    "    sum = 0;\n",
    "    try:\n",
    "        sum = list_data[0] + list_data[1] + list_data[2]\n",
    "        if sum < 0:\n",
    "            raise Exception(\"Sum is minus\")\n",
    "    except IndexError as err:\n",
    "        print(str(err)) \n",
    "    except Exception as err:\n",
    "        print(str(err))\n",
    "    finally:\n",
    "        print(sum)\n",
    "\n",
    "calc([1,2])\n",
    "calc([1, 2, -100])"
   ]
  },
  {
   "cell_type": "code",
   "execution_count": null,
   "id": "9b9b9ce3",
   "metadata": {},
   "outputs": [],
   "source": []
  }
 ],
 "metadata": {
  "kernelspec": {
   "display_name": "Python 3",
   "language": "python",
   "name": "python3"
  },
  "language_info": {
   "codemirror_mode": {
    "name": "ipython",
    "version": 3
   },
   "file_extension": ".py",
   "mimetype": "text/x-python",
   "name": "python",
   "nbconvert_exporter": "python",
   "pygments_lexer": "ipython3",
   "version": "3.8.8"
  }
 },
 "nbformat": 4,
 "nbformat_minor": 5
}
