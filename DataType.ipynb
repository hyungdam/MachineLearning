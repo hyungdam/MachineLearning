{
 "cells": [
  {
   "cell_type": "code",
   "execution_count": 5,
   "id": "132efd38",
   "metadata": {},
   "outputs": [
    {
     "name": "stdout",
     "output_type": "stream",
     "text": [
      "a[0] = 10 , a[2] = 30 , a[4] = 50\n",
      "a[-1] = 50 , a[-2] = 40  a[-5] = 10\n"
     ]
    }
   ],
   "source": [
    "a = [ 10, 20, 30, 40, 50 ]\n",
    "# , 가 자동으로 공백문자 출력 \n",
    "# print : 자동으로 개행 출력\n",
    "print('a[0] =', a[0], ', a[2] =', a[2], ', a[4] =', a[4])\n",
    "print('a[-1] =', a[-1], ', a[-2] =', a[-2], ' a[-5] =', a[-5]) # -1 부터 리스트의 맨 뒤 요소"
   ]
  },
  {
   "cell_type": "code",
   "execution_count": 6,
   "id": "e957855d",
   "metadata": {},
   "outputs": [
    {
     "name": "stdout",
     "output_type": "stream",
     "text": [
      "b =  [100, 200, 300]\n"
     ]
    }
   ],
   "source": [
    "b = [ ]\n",
    "# append : list에 원소 추가\n",
    "b.append(100), b.append(200), b.append(300)\n",
    "print('b = ', b)"
   ]
  },
  {
   "cell_type": "code",
   "execution_count": 10,
   "id": "129d34bd",
   "metadata": {},
   "outputs": [
    {
     "name": "stdout",
     "output_type": "stream",
     "text": [
      "c[0:2] = [10, 20] , c[1:] [20, 30, 40, 50]\n",
      "c[:3] = [10, 20, 30] , c[:-2] = [10, 20, 30]\n",
      "c[:] = [10, 20, 30, 40, 50]\n"
     ]
    }
   ],
   "source": [
    "c = [ 10, 20, 30, 40, 50 ]\n",
    "# list slicing\n",
    "# [a:b]는 index a부터 b-1 원소 까지\n",
    "# [a:]는 index a부터 마지막 원소 까지\n",
    "# [:b]는 첫번째 원소 부터 b-1원소 까지\n",
    "# [:]는 첫번째 원소부터 마지막 원소 까지\n",
    "print('c[0:2] =', c[0:2], ', c[1:]', c[1:]) \n",
    "print('c[:3] =', c[:3], ', c[:-2] =', c[:-2])\n",
    "print('c[:] =', c[:])"
   ]
  },
  {
   "cell_type": "code",
   "execution_count": 12,
   "id": "c39322c4",
   "metadata": {},
   "outputs": [
    {
     "name": "stdout",
     "output_type": "stream",
     "text": [
      "a[0] = 10 , a[-2] = 40\n",
      "a[0:2] = (10, 20) , a[1:] = (20, 30, 40, 50) , a[:] = (10, 20, 30, 40, 50)\n"
     ]
    }
   ],
   "source": [
    "a = (10, 20, 30, 40, 50)\n",
    "# tuple은 read only list이다. 기본적인 연산은 list와 동일\n",
    "# a[0] = 100 같은 코드는 에러가 발생한다.\n",
    "print('a[0] =', a[0], ', a[-2] =', a[-2])\n",
    "print('a[0:2] =', a[0:2], ', a[1:] =', a[1:], ', a[:] =', a[:])"
   ]
  },
  {
   "cell_type": "code",
   "execution_count": 18,
   "id": "c76483f2",
   "metadata": {},
   "outputs": [
    {
     "name": "stdout",
     "output_type": "stream",
     "text": [
      "{'KIM': 90, 'LEE': 85, 'JUN': 95}\n",
      "score['KIM'] = 90\n",
      "dict_keys(['KIM', 'LEE', 'JUN'])\n",
      "dict_values([90, 85, 95])\n",
      "dict_items([('KIM', 90), ('LEE', 85), ('JUN', 95)])\n"
     ]
    }
   ],
   "source": [
    "score = {'KIM':90, 'LEE':85, 'JUN':95}\n",
    "# dictionary는 c++의 map과 유사(key, value의 쌍)\n",
    "print(score)\n",
    "print(\"score['KIM'] =\", score['KIM'])\n",
    "# method 3가지 기본적으로 list형태로 출력한다는 것이 중요\n",
    "# items method 출력형식 기억하기\n",
    "print(score.keys())\n",
    "print(score.values())\n",
    "print(score.items())"
   ]
  },
  {
   "cell_type": "code",
   "execution_count": 19,
   "id": "6f98f81c",
   "metadata": {},
   "outputs": [
    {
     "name": "stdout",
     "output_type": "stream",
     "text": [
      "<class 'list'> <class 'tuple'> <class 'dict'> <class 'list'>\n",
      "5 5 2 3\n"
     ]
    }
   ],
   "source": [
    "a = [10, 20, 30, 40, 50] # list\n",
    "b = (10, 20, 30, 40, 50) # tuple\n",
    "c = {'KIM':90, 'LEE':80} # dictionary\n",
    "d = [[100, 200], [300, 400], [500, 600]] # 원소가 list인 list\n",
    "# type() len() method 출력\n",
    "print(type(a), type(b), type(c), type(d))\n",
    "print(len(a), len(b), len(c), len(d)) # 원소의 개수를 출력한다"
   ]
  },
  {
   "cell_type": "code",
   "execution_count": null,
   "id": "64472356",
   "metadata": {},
   "outputs": [],
   "source": []
  }
 ],
 "metadata": {
  "kernelspec": {
   "display_name": "Python 3",
   "language": "python",
   "name": "python3"
  },
  "language_info": {
   "codemirror_mode": {
    "name": "ipython",
    "version": 3
   },
   "file_extension": ".py",
   "mimetype": "text/x-python",
   "name": "python",
   "nbconvert_exporter": "python",
   "pygments_lexer": "ipython3",
   "version": "3.8.8"
  }
 },
 "nbformat": 4,
 "nbformat_minor": 5
}
