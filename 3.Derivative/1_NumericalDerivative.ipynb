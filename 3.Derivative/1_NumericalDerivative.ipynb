{
 "cells": [
  {
   "cell_type": "code",
   "execution_count": 2,
   "id": "cade371a",
   "metadata": {},
   "outputs": [],
   "source": [
    "# numerical derivative 구현 함수\n",
    "# 수치 미분은 특정 지점에 대한 미분값을 구하는 것\n",
    "import numpy as np\n",
    "\n",
    "def numerical_derivative(f, x):\n",
    "    delta_x = 1e-4\n",
    "    grad = np.zeros_like(x)\n",
    "    print(\"debug 1. initial input variable =\", x)\n",
    "    print(\"debug 2. initial grad =\", grad)\n",
    "    print(\"==========================================\")\n",
    "    \n",
    "    it = np.nditer(x, flags=['multi_index'], op_flags=['readwrite'])\n",
    "    \n",
    "    \n",
    "    while not it.finished:\n",
    "        idx = it.multi_index\n",
    "        print(\"debug 3. idx =\", idx, \", x[idx] =\", x[idx])\n",
    "        \n",
    "        tmp_val = x[idx]\n",
    "        x[idx] = float(tmp_val) + delta_x\n",
    "        fx1 = f(x)\n",
    "        \n",
    "        x[idx] = float(tmp_val) - delta_x\n",
    "        fx2 = f(x)\n",
    "        grad[idx] = (fx1 - fx2) / (2*delta_x)\n",
    "        print(\"debug 4. grad[idx] =\", grad[idx])\n",
    "        print(\"debug 5. grad =\", grad)\n",
    "        print(\"==========================================\")\n",
    "        \n",
    "        x[idx] = tmp_val\n",
    "        it.iternext()\n",
    "        \n",
    "    return grad"
   ]
  },
  {
   "cell_type": "code",
   "execution_count": 3,
   "id": "147695b5",
   "metadata": {},
   "outputs": [
    {
     "name": "stdout",
     "output_type": "stream",
     "text": [
      "debug 1. initial input variable = [3.]\n",
      "debug 2. initial grad = [0.]\n",
      "==========================================\n",
      "debug 3. idx = (0,) , x[idx] = 3.0\n",
      "debug 4. grad[idx] = 6.000000000012662\n",
      "debug 5. grad = [6.]\n",
      "==========================================\n",
      "type(ret) = <class 'numpy.ndarray'> , ret_val = [6.]\n"
     ]
    }
   ],
   "source": [
    "# f(x) == x^2\n",
    "def func1(W):\n",
    "    x = W\n",
    "    return x**2\n",
    "\n",
    "f = lambda W : func1(W)\n",
    "W = np.array([3.0])\n",
    "\n",
    "ret = numerical_derivative(f, W)\n",
    "\n",
    "print(\"type(ret) =\", type(ret), \", ret_val =\", ret)"
   ]
  },
  {
   "cell_type": "code",
   "execution_count": 7,
   "id": "c14ba456",
   "metadata": {},
   "outputs": [
    {
     "name": "stdout",
     "output_type": "stream",
     "text": [
      "debug 1. initial input variable = [1. 2.]\n",
      "debug 2. initial grad = [0. 0.]\n",
      "==========================================\n",
      "debug 3. idx = (0,) , x[idx] = 1.0\n",
      "debug 4. grad[idx] = 7.999999999990237\n",
      "debug 5. grad = [8. 0.]\n",
      "==========================================\n",
      "debug 3. idx = (1,) , x[idx] = 2.0\n",
      "debug 4. grad[idx] = 15.000000010019221\n",
      "debug 5. grad = [ 8.         15.00000001]\n",
      "==========================================\n",
      "type(ret) = <class 'numpy.ndarray'> , ret_val = [ 8.         15.00000001]\n"
     ]
    }
   ],
   "source": [
    "# f(x, y) - 2x + 3xy + y^3\n",
    "def func1(W):\n",
    "    x = W[0]\n",
    "    y = W[1]\n",
    "    return (2*x + 3*x*y + y**3)\n",
    "\n",
    "f = lambda W : func1(W)\n",
    "W = np.array([1.0, 2.0])\n",
    "\n",
    "ret = numerical_derivative(f, W)\n",
    "\n",
    "print(\"type(ret) =\", type(ret), \", ret_val =\", ret)"
   ]
  },
  {
   "cell_type": "code",
   "execution_count": 6,
   "id": "78453dd3",
   "metadata": {},
   "outputs": [
    {
     "name": "stdout",
     "output_type": "stream",
     "text": [
      "debug 1. initial input variable = [[1. 2.]\n",
      " [3. 4.]]\n",
      "debug 2. initial grad = [[0. 0.]\n",
      " [0. 0.]]\n",
      "==========================================\n",
      "debug 3. idx = (0, 0) , x[idx] = 1.0\n",
      "debug 4. grad[idx] = 5.000000000023874\n",
      "debug 5. grad = [[5. 0.]\n",
      " [0. 0.]]\n",
      "==========================================\n",
      "debug 3. idx = (0, 1) , x[idx] = 2.0\n",
      "debug 4. grad[idx] = 13.00000000000523\n",
      "debug 5. grad = [[ 5. 13.]\n",
      " [ 0.  0.]]\n",
      "==========================================\n",
      "debug 3. idx = (1, 0) , x[idx] = 3.0\n",
      "debug 4. grad[idx] = 32.00000000006753\n",
      "debug 5. grad = [[ 5. 13.]\n",
      " [32.  0.]]\n",
      "==========================================\n",
      "debug 3. idx = (1, 1) , x[idx] = 4.0\n",
      "debug 4. grad[idx] = 15.000000000000568\n",
      "debug 5. grad = [[ 5. 13.]\n",
      " [32. 15.]]\n",
      "==========================================\n",
      "type(ret) = <class 'numpy.ndarray'> , ret_val = [[ 5. 13.]\n",
      " [32. 15.]]\n"
     ]
    }
   ],
   "source": [
    "# f(w, x, y, z) = wx + xyz + 3w + zy^2\n",
    "def func1(W):\n",
    "    w = W[0, 0]\n",
    "    x = W[0, 1]\n",
    "    y = W[1, 0]\n",
    "    z = W[1, 1]\n",
    "    return (w*x + x*y*z + 3*w + z*np.power(y, 2))\n",
    "\n",
    "f = lambda W : func1(W)\n",
    "W = np.array([[1.0, 2.0], [3.0, 4.0]])\n",
    "\n",
    "ret = numerical_derivative(f, W)\n",
    "\n",
    "print(\"type(ret) =\", type(ret), \", ret_val =\", ret)"
   ]
  },
  {
   "cell_type": "code",
   "execution_count": null,
   "id": "eb26008f",
   "metadata": {},
   "outputs": [],
   "source": []
  }
 ],
 "metadata": {
  "kernelspec": {
   "display_name": "Python 3",
   "language": "python",
   "name": "python3"
  },
  "language_info": {
   "codemirror_mode": {
    "name": "ipython",
    "version": 3
   },
   "file_extension": ".py",
   "mimetype": "text/x-python",
   "name": "python",
   "nbconvert_exporter": "python",
   "pygments_lexer": "ipython3",
   "version": "3.8.8"
  }
 },
 "nbformat": 4,
 "nbformat_minor": 5
}
