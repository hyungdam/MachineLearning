{
 "cells": [
  {
   "cell_type": "code",
   "execution_count": 16,
   "id": "1732782c",
   "metadata": {},
   "outputs": [
    {
     "name": "stdout",
     "output_type": "stream",
     "text": [
      "W = [[0.3502304]] , b= [0.93015154]\n"
     ]
    }
   ],
   "source": [
    "import numpy as np\n",
    "\n",
    "x_data = np.array([1, 2, 3, 4, 5]).reshape(5, 1) # 입력 데이터\n",
    "t_data = np.array([2, 3, 4, 5, 6]).reshape(5, 1) # 출력 데이터\n",
    "\n",
    "W = np.random.rand(1, 1)\n",
    "b = np.random.rand(1)\n",
    "print(\"W =\", W, \", b=\", b)"
   ]
  },
  {
   "cell_type": "code",
   "execution_count": 17,
   "id": "763b7bb5",
   "metadata": {},
   "outputs": [],
   "source": [
    "def loss_func(x, t):\n",
    "    y = np.dot(x, W) + b\n",
    "    return ( np.sum( (t - y)**2 ) ) / ( len(x) ) "
   ]
  },
  {
   "cell_type": "code",
   "execution_count": 18,
   "id": "e5535e12",
   "metadata": {},
   "outputs": [],
   "source": [
    "def numerical_derivative(f, x):\n",
    "    delta_x = 1e-4\n",
    "    grad = np.zeros_like(x)\n",
    "    \n",
    "    it = np.nditer(x, flags = ['multi_index'], op_flags=['readwrite'])\n",
    "    \n",
    "    while not it.finished:\n",
    "        idx = it.multi_index\n",
    "        tmp_val = x[idx]\n",
    "        \n",
    "        x[idx] = float(tmp_val) + delta_x\n",
    "        fx1 = f(x)\n",
    "        \n",
    "        x[idx] = float(tmp_val) - delta_x\n",
    "        fx2 = f(x)\n",
    "        grad[idx] = (fx1 - fx2) / (2 * delta_x)\n",
    "        \n",
    "        x[idx] = tmp_val\n",
    "        it.iternext()\n",
    "        \n",
    "    return grad"
   ]
  },
  {
   "cell_type": "code",
   "execution_count": 19,
   "id": "680f3686",
   "metadata": {},
   "outputs": [],
   "source": [
    "def loss_val(x, t):\n",
    "    y = np.dot(x, W) + b\n",
    "    return ( np.sum( (t-y) ** 2 ) ) / ( len(x) )\n",
    "\n",
    "def predict(x):\n",
    "    y = np.dot(x, W) + b\n",
    "    return y"
   ]
  },
  {
   "cell_type": "code",
   "execution_count": 20,
   "id": "094f7d68",
   "metadata": {},
   "outputs": [
    {
     "name": "stdout",
     "output_type": "stream",
     "text": [
      "Initial loss value = 4.92139716245259 , Initial W = [[0.3502304]] , b = [0.93015154]\n",
      "step = 0 loss value = 2.8959509934397567 W = [[0.49737062]] , b = [0.96170627]\n",
      "step = 600 loss value = 1.2916035935508277e-05 W = [[0.99766621]] , b = [1.00842365]\n",
      "step = 1200 loss value = 2.081711901910734e-07 W = [[0.99970372]] , b = [1.00106941]\n",
      "step = 1800 loss value = 3.3551504999197404e-09 W = [[0.99996239]] , b = [1.00013577]\n",
      "step = 2400 loss value = 5.407585395545844e-11 W = [[0.99999522]] , b = [1.00001724]\n",
      "step = 3000 loss value = 8.715549370016981e-13 W = [[0.99999939]] , b = [1.00000219]\n",
      "step = 3600 loss value = 1.4047083020539141e-14 W = [[0.99999992]] , b = [1.00000028]\n",
      "step = 4200 loss value = 2.2640058890550237e-16 W = [[0.99999999]] , b = [1.00000004]\n",
      "step = 4800 loss value = 3.6489597622495504e-18 W = [[1.]] , b = [1.]\n",
      "step = 5400 loss value = 5.881143440110982e-20 W = [[1.]] , b = [1.]\n",
      "step = 6000 loss value = 9.479123905149088e-22 W = [[1.]] , b = [1.]\n"
     ]
    }
   ],
   "source": [
    "learning_rate = 1e-2\n",
    "\n",
    "f = lambda x : loss_func(x_data, t_data)\n",
    "print(\"Initial loss value =\", loss_val(x_data, t_data), \", Initial W =\", W, \", b =\", b)\n",
    "\n",
    "for step in range(6001):\n",
    "    W -= learning_rate * numerical_derivative(f, W)\n",
    "    b -= learning_rate * numerical_derivative(f, b)\n",
    "    \n",
    "    if(step % 600 == 0):\n",
    "        print(\"step =\", step, \"loss value =\", loss_val(x_data, t_data), \"W =\", W, \", b =\", b)"
   ]
  },
  {
   "cell_type": "code",
   "execution_count": 21,
   "id": "bd932047",
   "metadata": {},
   "outputs": [
    {
     "data": {
      "text/plain": [
       "array([[44.]])"
      ]
     },
     "execution_count": 21,
     "metadata": {},
     "output_type": "execute_result"
    }
   ],
   "source": [
    "predict(43)"
   ]
  },
  {
   "cell_type": "code",
   "execution_count": null,
   "id": "12d29824",
   "metadata": {},
   "outputs": [],
   "source": []
  }
 ],
 "metadata": {
  "kernelspec": {
   "display_name": "Python 3",
   "language": "python",
   "name": "python3"
  },
  "language_info": {
   "codemirror_mode": {
    "name": "ipython",
    "version": 3
   },
   "file_extension": ".py",
   "mimetype": "text/x-python",
   "name": "python",
   "nbconvert_exporter": "python",
   "pygments_lexer": "ipython3",
   "version": "3.8.8"
  }
 },
 "nbformat": 4,
 "nbformat_minor": 5
}
