{
 "cells": [
  {
   "cell_type": "code",
   "execution_count": 6,
   "id": "b6d6c5ef",
   "metadata": {},
   "outputs": [
    {
     "data": {
      "text/plain": [
       "[[1, 0], [0, 1], [1, 1], [1, 1]]"
      ]
     },
     "execution_count": 6,
     "metadata": {},
     "output_type": "execute_result"
    }
   ],
   "source": [
    "A = [[1, 0], [0, 1]]\n",
    "B = [[1, 1], [1, 1]]\n",
    "A + B"
   ]
  },
  {
   "cell_type": "code",
   "execution_count": 7,
   "id": "b415b677",
   "metadata": {},
   "outputs": [
    {
     "data": {
      "text/plain": [
       "array([[2, 1],\n",
       "       [1, 2]])"
      ]
     },
     "execution_count": 7,
     "metadata": {},
     "output_type": "execute_result"
    }
   ],
   "source": [
    "# list 와 numpy의 차이\n",
    "import numpy as np\n",
    "A = np.array([[1, 0], [0, 1]])\n",
    "B = np.array([[1, 1], [1, 1]])\n",
    "A + B"
   ]
  },
  {
   "cell_type": "code",
   "execution_count": 8,
   "id": "bb821645",
   "metadata": {},
   "outputs": [
    {
     "name": "stdout",
     "output_type": "stream",
     "text": [
      "A == [1 2 3] , B == [4 5 6]\n",
      "vector A shape == (3,) , vector B shape == (3,)\n",
      "vector A dimension == 1 , vector B dimension == 1\n"
     ]
    }
   ],
   "source": [
    "# numpy vector, 1행인 matrix가 아니다.\n",
    "# shape, ndim 속성\n",
    "import numpy as np\n",
    "\n",
    "A = np.array([1, 2, 3])\n",
    "B = np.array([4, 5, 6])\n",
    "print(\"A ==\", A, \", B ==\", B)\n",
    "print(\"vector A shape ==\", A.shape, \", vector B shape ==\", B.shape)\n",
    "print(\"vector A dimension ==\", A.ndim, \", vector B dimension ==\", B.ndim)"
   ]
  },
  {
   "cell_type": "code",
   "execution_count": 12,
   "id": "e6aec28f",
   "metadata": {},
   "outputs": [
    {
     "name": "stdout",
     "output_type": "stream",
     "text": [
      "matrix A = [[1 2 3]\n",
      " [4 5 6]]\n",
      "matrix B = [[-1 -2 -3]\n",
      " [-4 -5 -6]]\n",
      "matrix A shape == (2, 3) , matrix B shape == (2, 3)\n",
      "matrix A dimension == 2 , matrix B dimension == 2\n"
     ]
    }
   ],
   "source": [
    "# numpy matrix\n",
    "# shape은 행과 열을 표시해줌\n",
    "import numpy as np\n",
    "\n",
    "A = np.array([[1, 2, 3], [4, 5, 6]])\n",
    "B = np.array([[-1, -2, -3], [-4, -5, -6]])\n",
    "print(\"matrix A =\", A)\n",
    "print(\"matrix B =\", B)\n",
    "print(\"matrix A shape ==\", A.shape, \", matrix B shape ==\", B.shape)\n",
    "print(\"matrix A dimension ==\", A.ndim, \", matrix B dimension ==\", B.ndim)"
   ]
  },
  {
   "cell_type": "code",
   "execution_count": 13,
   "id": "d91a94fe",
   "metadata": {},
   "outputs": [
    {
     "name": "stdout",
     "output_type": "stream",
     "text": [
      "A == [1 2 3] , B == [4 5 6]\n",
      "A + B == [5 7 9]\n",
      "A - B == [-3 -3 -3]\n",
      "A * B == [ 4 10 18]\n",
      "A / B == [0.25 0.4  0.5 ]\n"
     ]
    }
   ],
   "source": [
    "# numpy는 편리한 산술연산을 제공\n",
    "# 각 원소에 대응되는 원소끼리 연산을 수행\n",
    "import numpy as np\n",
    "\n",
    "A = np.array([1, 2, 3])\n",
    "B = np.array([4, 5, 6])\n",
    "\n",
    "print(\"A ==\", A, \", B ==\", B)\n",
    "print(\"A + B ==\", A + B)\n",
    "print(\"A - B ==\", A - B)\n",
    "print(\"A * B ==\", A * B)\n",
    "print(\"A / B ==\", A / B)"
   ]
  },
  {
   "cell_type": "code",
   "execution_count": 15,
   "id": "ed1e7c84",
   "metadata": {},
   "outputs": [
    {
     "name": "stdout",
     "output_type": "stream",
     "text": [
      "C.shape == (3,)\n",
      "C.shape == (1, 3)\n",
      "D.shape == (2, 3)\n",
      "D shape == (3, 2)\n"
     ]
    }
   ],
   "source": [
    "# reshape()은 shape을 변경해줌\n",
    "import numpy as np\n",
    "\n",
    "C = np.array([1, 2, 3])\n",
    "print(\"C.shape ==\", C.shape)\n",
    "C = C.reshape(1, 3)\n",
    "print(\"C.shape ==\", C.shape)\n",
    "\n",
    "D = np.array([[1, 2, 3], [4, 5, 6]])\n",
    "print(\"D.shape ==\", D.shape)\n",
    "D = D.reshape(3, 2)\n",
    "print(\"D shape ==\", D.shape)"
   ]
  },
  {
   "cell_type": "code",
   "execution_count": 16,
   "id": "85c8d9ee",
   "metadata": {},
   "outputs": [
    {
     "name": "stdout",
     "output_type": "stream",
     "text": [
      "(3, 4)\n",
      "B shape == (4, 3)\n",
      "[[  1   2   3]\n",
      " [  4  10  20]\n",
      " [ 30  40 100]\n",
      " [200 300 400]]\n",
      "C shape == (2, 6)\n",
      "[[  1   2   3   4  10  20]\n",
      " [ 30  40 100 200 300 400]]\n"
     ]
    }
   ],
   "source": [
    "# matrix에서 reshape(-1, a)는 a열을 갖도록 행을 적절히 변환\n",
    "import numpy as np\n",
    "\n",
    "A = np.array([[1, 2, 3, 4],\n",
    "             [10, 20, 30, 40],\n",
    "             [100, 200, 300, 400]])\n",
    "print(A.shape)\n",
    "\n",
    "B = A.reshape(-1, 3)\n",
    "print(\"B shape ==\", B.shape)\n",
    "print(B)\n",
    "\n",
    "C = A.reshape(-1, 6)\n",
    "print(\"C shape ==\", C.shape)\n",
    "print(C)"
   ]
  },
  {
   "cell_type": "code",
   "execution_count": 18,
   "id": "7ec63532",
   "metadata": {},
   "outputs": [
    {
     "name": "stdout",
     "output_type": "stream",
     "text": [
      "[[6 7]\n",
      " [8 9]]\n",
      "[[5 7]\n",
      " [7 9]]\n"
     ]
    }
   ],
   "source": [
    "# Broadcast, matrix의 shape이 서로 다른 경우에도 사칙연산이 가능하도록 확장하는 기능\n",
    "# 차원이 작은 쪽이 큰 쪽에 맞춰 행단위로, 반복적으로 크기가 확장\n",
    "import numpy as np\n",
    "\n",
    "A = np.array([[1, 2], [3, 4]])\n",
    "B = 5\n",
    "print(A + B)\n",
    "\n",
    "C = np.array([[1, 2], [3, 4]])\n",
    "D = np.array([4, 5])\n",
    "print(C + D)"
   ]
  },
  {
   "cell_type": "code",
   "execution_count": 2,
   "id": "3e411c0a",
   "metadata": {},
   "outputs": [
    {
     "name": "stdout",
     "output_type": "stream",
     "text": [
      "A.shape == (3, 2)\n",
      "B.shape == (2, 3)\n",
      "[[1 2]\n",
      " [3 4]\n",
      " [5 6]]\n",
      "[[1 3 5]\n",
      " [2 4 6]]\n"
     ]
    }
   ],
   "source": [
    "# Transpose 사용법\n",
    "# .T 명심\n",
    "import numpy as np\n",
    "\n",
    "A = np.array([[1, 2], [3, 4], [5, 6]])\n",
    "B = A.T\n",
    "\n",
    "print(\"A.shape ==\", A.shape)\n",
    "print(\"B.shape ==\", B.shape)\n",
    "print(A)\n",
    "print(B)"
   ]
  },
  {
   "cell_type": "code",
   "execution_count": 5,
   "id": "02f15c76",
   "metadata": {},
   "outputs": [
    {
     "name": "stdout",
     "output_type": "stream",
     "text": [
      "C.shape == (5,) , D.shape == (5,)\n",
      "E.shape == (1, 5)  , F.shape == (5, 1)\n"
     ]
    }
   ],
   "source": [
    "# 왜 vector를 1 * n matrix로 생각하면 안되는지 보여주는 예제\n",
    "import numpy as np\n",
    "\n",
    "C = np.array([1, 2, 3, 4, 5])\n",
    "D = C.T\n",
    "print(\"C.shape ==\", C.shape , \", D.shape ==\", D.shape)\n",
    "\n",
    "# reshpae을 통해 vector를 matrix로 변경\n",
    "E = C.reshape(1, 5)\n",
    "F = E.T\n",
    "print(\"E.shape ==\", E.shape, \" , F.shape ==\", F.shape)"
   ]
  },
  {
   "cell_type": "code",
   "execution_count": 6,
   "id": "2c03aa3e",
   "metadata": {},
   "outputs": [
    {
     "name": "stdout",
     "output_type": "stream",
     "text": [
      "A shape == (2, 3) , B.shape == (3, 2)\n",
      "C.shape == (2, 2)\n",
      "[[-22 -28]\n",
      " [-49 -64]]\n"
     ]
    }
   ],
   "source": [
    "import numpy as np\n",
    "\n",
    "A = np.array([[1, 2, 3], [4, 5, 6]])\n",
    "B = np.array([[-1, -2], [-3, -4], [-5, -6]])\n",
    "C = np.dot(A, B)\n",
    "\n",
    "print(\"A shape ==\", A.shape, \", B.shape ==\", B.shape)\n",
    "print(\"C.shape ==\", C.shape)\n",
    "print(C)"
   ]
  }
 ],
 "metadata": {
  "kernelspec": {
   "display_name": "Python 3",
   "language": "python",
   "name": "python3"
  },
  "language_info": {
   "codemirror_mode": {
    "name": "ipython",
    "version": 3
   },
   "file_extension": ".py",
   "mimetype": "text/x-python",
   "name": "python",
   "nbconvert_exporter": "python",
   "pygments_lexer": "ipython3",
   "version": "3.8.8"
  }
 },
 "nbformat": 4,
 "nbformat_minor": 5
}
