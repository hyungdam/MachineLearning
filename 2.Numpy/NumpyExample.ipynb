{
 "cells": [
  {
   "cell_type": "code",
   "execution_count": 2,
   "id": "8ea022c2",
   "metadata": {},
   "outputs": [
    {
     "name": "stdout",
     "output_type": "stream",
     "text": [
      "A.shape == (3, 2)\n",
      "[[10 20]\n",
      " [30 40]\n",
      " [50 60]]\n",
      "A[0, 0] == 10\n",
      "A[2, 1] == 60\n",
      "A[:, 0] == [10 30 50]\n",
      "A[0 : -1, 1 : 2] == [[20]\n",
      " [40]]\n",
      "A[:, :] == [[10 20]\n",
      " [30 40]\n",
      " [50 60]]\n"
     ]
    }
   ],
   "source": [
    "# 기본적으로 matrix에서 [a, b]는 a행 b열을 의미한다.\n",
    "# 즉 ','를 기준으로 행과 열의 정보를 파악하면 간단하다.\n",
    "import numpy as np\n",
    "\n",
    "A = np.array([[10, 20], [30, 40], [50, 60]])\n",
    "print(\"A.shape ==\", A.shape)\n",
    "print(A)\n",
    "print(\"A[0, 0] ==\", A[0, 0])\n",
    "print(\"A[2, 1] ==\", A[2, 1])\n",
    "print(\"A[:, 0] ==\", A[:, 0])  # 행에 : 니까 모든 행을 의미한다. 즉 모든 행의 0열 값\n",
    "print(\"A[0 : -1, 1 : 2] ==\", A[0 : -1, 1 : 2]) # 0 ~ (-1-1) 즉 0행부터 -2행(== 1행), 1 ~ 2-1 1열부터 1열\n",
    "print(\"A[:, :] ==\", A[: , :])"
   ]
  },
  {
   "cell_type": "code",
   "execution_count": 4,
   "id": "6e66d9b7",
   "metadata": {},
   "outputs": [
    {
     "name": "stdout",
     "output_type": "stream",
     "text": [
      "index => (0, 0) , value => 10\n",
      "index => (0, 1) , value => 20\n",
      "index => (0, 2) , value => 30\n",
      "index => (0, 3) , value => 40\n",
      "index => (1, 0) , value => 50\n",
      "index => (1, 1) , value => 60\n",
      "index => (1, 2) , value => 70\n",
      "index => (1, 3) , value => 80\n"
     ]
    }
   ],
   "source": [
    "# numpy iterator 사용법\n",
    "# np.nditer()\n",
    "import numpy as np\n",
    "\n",
    "A = np.array([[10, 20, 30, 40], [50, 60, 70, 80]])\n",
    "it = np.nditer(A, flags=['multi_index'], op_flags=['readwrite'])\n",
    "while not it.finished:\n",
    "    idx = it.multi_index\n",
    "    print(\"index =>\", idx, \", value =>\", A[idx])\n",
    "    it.iternext()"
   ]
  },
  {
   "cell_type": "code",
   "execution_count": 6,
   "id": "b8cce6c3",
   "metadata": {},
   "outputs": [
    {
     "name": "stdout",
     "output_type": "stream",
     "text": [
      "random_number1 == [0.98278663 0.01638342 0.61139203]\n",
      "random_number2 == [[0.73864571 0.64713297 0.30679782]]\n",
      "random_number3 == [[0.26373231]\n",
      " [0.88951384]\n",
      " [0.61967601]]\n"
     ]
    }
   ],
   "source": [
    "# np.random.rand(row, col): 0~1사이 랜덤 실수를 갖는 row행 col열 matrix 생성\n",
    "import numpy as np\n",
    "\n",
    "random_number1 = np.random.rand(3) # 여기는 원소 개수만 있으니 vector\n",
    "random_number2 = np.random.rand(1, 3)\n",
    "random_number3 = np.random.rand(3, 1)\n",
    "\n",
    "print(\"random_number1 ==\", random_number1)\n",
    "print(\"random_number2 ==\", random_number2)\n",
    "print(\"random_number3 ==\", random_number3)"
   ]
  },
  {
   "cell_type": "code",
   "execution_count": 10,
   "id": "cd65f02a",
   "metadata": {},
   "outputs": [
    {
     "name": "stdout",
     "output_type": "stream",
     "text": [
      "np.max(A) == 7\n",
      "np.argmax(A) == 6\n"
     ]
    }
   ],
   "source": [
    "# np.max(): 넘파이의 원소 중 max, np.argmax(): max의 index\n",
    "# 실험해보니 matrix여도 vector식의 index값 출력(평면화)\n",
    "import numpy as np\n",
    "\n",
    "A = np.array([[2, 6, 3, 1], [1, 2, 7, 4]])\n",
    "\n",
    "print(\"np.max(A) ==\", np.max(A))\n",
    "print(\"np.argmax(A) ==\", np.argmax(A))"
   ]
  },
  {
   "cell_type": "code",
   "execution_count": null,
   "id": "9f8a4842",
   "metadata": {},
   "outputs": [],
   "source": [
    "# np.loadtxt()함수\n",
    "# csv파일에 martix값이 ,로 구분되면 delimiter=','\n",
    "# dtype은 읽어들일 데이터 타입 주로 np.float32 d사용\n",
    "import numpy as np\n",
    "\n",
    "loaded_data = np.loadtxt('./ch03_test_csv', delimiter=',', dtype=np.float32)\n",
    "\n",
    "print(\"loaded_data.shape ==\", loaded_data.shape)\n",
    "print(loaded_data)"
   ]
  }
 ],
 "metadata": {
  "kernelspec": {
   "display_name": "Python 3",
   "language": "python",
   "name": "python3"
  },
  "language_info": {
   "codemirror_mode": {
    "name": "ipython",
    "version": 3
   },
   "file_extension": ".py",
   "mimetype": "text/x-python",
   "name": "python",
   "nbconvert_exporter": "python",
   "pygments_lexer": "ipython3",
   "version": "3.8.8"
  }
 },
 "nbformat": 4,
 "nbformat_minor": 5
}
